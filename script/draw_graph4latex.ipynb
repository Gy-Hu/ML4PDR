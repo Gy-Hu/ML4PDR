{
 "cells": [
  {
   "cell_type": "code",
   "execution_count": 4,
   "metadata": {},
   "outputs": [
    {
     "name": "stdout",
     "output_type": "stream",
     "text": [
      "And(Not(And(a, b, c)), And(And(a, b), And(b, c), And(a, c)))\n",
      "Load pickle done.\n",
      "Finished drawing the graph.\n",
      "0: (not (and (not (and v18 v14 v22)) v22 v18 v26))\n",
      "1: (and (not (and v18 v14 v22)) v22 v18 v26)\n",
      "2: (not (and v18 v14 v22))\n",
      "3: (and v22 v18 v26)\n",
      "4: (and v18 v14 v22)\n",
      "5: v22\n",
      "6: v18\n",
      "7: v26\n",
      "8: v14\n"
     ]
    },
    {
     "data": {
      "image/png": "[encoded data removed]",
      "text/plain": [
       "<Figure size 432x288 with 1 Axes>"
      ]
     },
     "metadata": {},
     "output_type": "display_data"
    }
   ],
   "source": [
    "'''\n",
    "Convert the !s & s' example to graph (visualize it)\n",
    "'''\n",
    "\n",
    "\n",
    "\n",
    "\n",
    "\n",
    "import z3\n",
    "import pickle\n",
    "import networkx as nx\n",
    "import os\n",
    "import matplotlib.pyplot as plt\n",
    "\n",
    "# applen sys path\n",
    "import sys\n",
    "sys.path.append('../code-python_version')\n",
    "from data_gen_no_enumerate import problem\n",
    "\n",
    "a = z3.Bool('a')\n",
    "b = z3.Bool('b')\n",
    "c = z3.Bool('c')\n",
    "\n",
    "a_prime = z3.And(a,b)\n",
    "b_prime = z3.And(b,c)\n",
    "c_prime = z3.And(a,c)\n",
    "\n",
    "s = z3.And(a,b,c)\n",
    "s_prime = z3.And(a_prime,b_prime,c_prime)\n",
    "\n",
    "graph = z3.And(z3.Not(s),s_prime)\n",
    "print(graph)\n",
    "\n",
    "# load pickle\n",
    "with open('./nusmv.syncarb5^2.B_10.pkl', 'rb') as f:\n",
    "    cube_before_generalized = pickle.load(f)\n",
    "\n",
    "print(\"Load pickle done.\")\n",
    "\n",
    "# use networkx to visulize the graph\n",
    "G = nx.DiGraph()\n",
    "# add node from dataframe's first row\n",
    "\n",
    "G.add_nodes_from(list(cube_before_generalized.node_ref.keys())[1:])\n",
    "# add edge from syncarb5_2.edges\n",
    "G.add_edges_from(list(cube_before_generalized.edges)[1:])\n",
    "\n",
    "nx.draw(G,with_labels=True)\n",
    "\n",
    "print(\"Finished drawing the graph.\")\n",
    "\n",
    "#print the node info\n",
    "for node in cube_before_generalized.node_ref.keys():\n",
    "    print(f\"{node}: {str(cube_before_generalized.node_ref[node])}\")\n",
    "\n",
    "# save networkx graph to pdf (roate 90 degree)\n",
    "G.name = 'syncarb5^2.B_10'\n",
    "nx.drawing.nx_pydot.write_dot(G, \"../log/figures/syncarb5_2.dot\")\n",
    "os.system(\"dot -Tpdf ../log/figures/syncarb5_2.dot -o ../log/figures/syncarb5_dot.pdf\")\n",
    "\n",
    "# directly save networkx graph to pdf\n",
    "plt.savefig(\"../log/figures/syncarb5.pdf\", format=\"PDF\")\n",
    "\n",
    "\n"
   ]
  }
 ],
 "metadata": {
  "kernelspec": {
   "display_name": "Python 3.9.7 ('pytorch-gpu')",
   "language": "python",
   "name": "python3"
  },
  "language_info": {
   "codemirror_mode": {
    "name": "ipython",
    "version": 3
   },
   "file_extension": ".py",
   "mimetype": "text/x-python",
   "name": "python",
   "nbconvert_exporter": "python",
   "pygments_lexer": "ipython3",
   "version": "3.9.7 (default, Sep 16 2021, 13:09:58) \n[GCC 7.5.0]"
  },
  "orig_nbformat": 4,
  "vscode": {
   "interpreter": {
    "hash": "47174d51a039e3d98029158c86e9702ab56d7c793ce2bf040b3914803a3b3826"
   }
  }
 },
 "nbformat": 4,
 "nbformat_minor": 2
}
